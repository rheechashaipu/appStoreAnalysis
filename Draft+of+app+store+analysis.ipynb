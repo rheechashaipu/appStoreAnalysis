{
 "cells": [
  {
   "cell_type": "markdown",
   "metadata": {},
   "source": [
    "# Profitable App Profiles for the App Store and Google Play Markets\n",
    "\n",
    "The goal of this projet is to find app profiles that are profitable for App Store and Google Play Markets."
   ]
  },
  {
   "cell_type": "code",
   "execution_count": 2,
   "metadata": {
    "collapsed": false
   },
   "outputs": [],
   "source": [
    "from csv import reader\n",
    "\n",
    "file = open('googleplaystore.csv')\n",
    "read_file = reader(file)\n",
    "android = list(read_file)\n",
    "android_header = android[0]\n",
    "#android[1:] refers to the dataset without the heading\n",
    "android = android[1:]\n",
    "\n",
    "file = open('AppleStore.csv')\n",
    "read_file = reader(file)\n",
    "ios = list(read_file)\n",
    "ios_header = ios[0]\n",
    "ios = ios[1:]"
   ]
  },
  {
   "cell_type": "code",
   "execution_count": 3,
   "metadata": {
    "collapsed": true
   },
   "outputs": [],
   "source": [
    "def explore_data(dataset, start, end, rows_and_columns=False):\n",
    "    dataset_slice = dataset[start:end]\n",
    "    for row in dataset_slice:\n",
    "        print(row)\n",
    "        print('\\n')\n",
    "        \n",
    "    if rows_and_columns:\n",
    "        print('Number of rows:', len(dataset))\n",
    "        print('Number of columns:', len(dataset[0]))"
   ]
  },
  {
   "cell_type": "code",
   "execution_count": 4,
   "metadata": {
    "collapsed": false
   },
   "outputs": [
    {
     "name": "stdout",
     "output_type": "stream",
     "text": [
      "['App', 'Category', 'Rating', 'Reviews', 'Size', 'Installs', 'Type', 'Price', 'Content Rating', 'Genres', 'Last Updated', 'Current Ver', 'Android Ver']\n",
      "\n",
      "\n",
      "['Photo Editor & Candy Camera & Grid & ScrapBook', 'ART_AND_DESIGN', '4.1', '159', '19M', '10,000+', 'Free', '0', 'Everyone', 'Art & Design', 'January 7, 2018', '1.0.0', '4.0.3 and up']\n",
      "\n",
      "\n",
      "['Coloring book moana', 'ART_AND_DESIGN', '3.9', '967', '14M', '500,000+', 'Free', '0', 'Everyone', 'Art & Design;Pretend Play', 'January 15, 2018', '2.0.0', '4.0.3 and up']\n",
      "\n",
      "\n",
      "['U Launcher Lite – FREE Live Cool Themes, Hide Apps', 'ART_AND_DESIGN', '4.7', '87510', '8.7M', '5,000,000+', 'Free', '0', 'Everyone', 'Art & Design', 'August 1, 2018', '1.2.4', '4.0.3 and up']\n",
      "\n",
      "\n",
      "['Sketch - Draw & Paint', 'ART_AND_DESIGN', '4.5', '215644', '25M', '50,000,000+', 'Free', '0', 'Teen', 'Art & Design', 'June 8, 2018', 'Varies with device', '4.2 and up']\n",
      "\n",
      "\n",
      "Number of rows: 10841\n",
      "Number of columns: 13\n"
     ]
    }
   ],
   "source": [
    "print(android_header)\n",
    "print('\\n')\n",
    "explore_data(android,0,4, True)"
   ]
  },
  {
   "cell_type": "markdown",
   "metadata": {},
   "source": [
    "There are 10841 listed Android apps in this dataset. The columns we may want to focus on are Category, Rating, Reviews, Type, Price, Content Rating, and Genres. Here is a link for the documentation of each column: https://www.kaggle.com/lava18/google-play-store-apps/home\n",
    "\n",
    "The columns were selected on the assumption that popular apps will tend towards either free or apps within a certain price range, genre, and high ratings."
   ]
  },
  {
   "cell_type": "code",
   "execution_count": 5,
   "metadata": {
    "collapsed": false
   },
   "outputs": [
    {
     "name": "stdout",
     "output_type": "stream",
     "text": [
      "['id', 'track_name', 'size_bytes', 'currency', 'price', 'rating_count_tot', 'rating_count_ver', 'user_rating', 'user_rating_ver', 'ver', 'cont_rating', 'prime_genre', 'sup_devices.num', 'ipadSc_urls.num', 'lang.num', 'vpp_lic']\n",
      "\n",
      "\n",
      "['284882215', 'Facebook', '389879808', 'USD', '0.0', '2974676', '212', '3.5', '3.5', '95.0', '4+', 'Social Networking', '37', '1', '29', '1']\n",
      "\n",
      "\n",
      "['389801252', 'Instagram', '113954816', 'USD', '0.0', '2161558', '1289', '4.5', '4.0', '10.23', '12+', 'Photo & Video', '37', '0', '29', '1']\n",
      "\n",
      "\n",
      "['529479190', 'Clash of Clans', '116476928', 'USD', '0.0', '2130805', '579', '4.5', '4.5', '9.24.12', '9+', 'Games', '38', '5', '18', '1']\n",
      "\n",
      "\n",
      "['420009108', 'Temple Run', '65921024', 'USD', '0.0', '1724546', '3842', '4.5', '4.0', '1.6.2', '9+', 'Games', '40', '5', '1', '1']\n",
      "\n",
      "\n",
      "Number of rows: 7197\n",
      "Number of columns: 16\n"
     ]
    }
   ],
   "source": [
    "print(ios_header)\n",
    "print('\\n')\n",
    "explore_data(ios, 0, 4, True)"
   ]
  },
  {
   "cell_type": "markdown",
   "metadata": {},
   "source": [
    "The Apple Store features 10840 apps. Columns worth observing to discern what makes a popular IOS app\n",
    "might be price, user rating, primary genre, content rating, and language. This is on the assumption that the market largely caters to certain languages, low prices, and apps that have already earned high ratings.\n",
    "\n",
    "Documentation for the IOS dataset: https://www.kaggle.com/ramamet4/app-store-apple-data-set-10k-apps/home"
   ]
  },
  {
   "cell_type": "markdown",
   "metadata": {},
   "source": [
    "# Data cleaning portion of the project"
   ]
  },
  {
   "cell_type": "code",
   "execution_count": 6,
   "metadata": {
    "collapsed": false
   },
   "outputs": [
    {
     "name": "stdout",
     "output_type": "stream",
     "text": [
      "['App', 'Category', 'Rating', 'Reviews', 'Size', 'Installs', 'Type', 'Price', 'Content Rating', 'Genres', 'Last Updated', 'Current Ver', 'Android Ver']\n",
      "\n",
      "\n",
      "['Life Made WI-Fi Touchscreen Photo Frame', '1.9', '19', '3.0M', '1,000+', 'Free', '0', 'Everyone', '', 'February 11, 2018', '1.0.19', '4.0 and up']\n"
     ]
    }
   ],
   "source": [
    "print(android_header)\n",
    "print('\\n')\n",
    "print(android[10472])\n"
   ]
  },
  {
   "cell_type": "markdown",
   "metadata": {},
   "source": [
    "The rating on row 10472 exceeds the maximum value of 5 allowed by the app store. This row will be deleted to help avoid any skewing of app ratings."
   ]
  },
  {
   "cell_type": "code",
   "execution_count": 7,
   "metadata": {
    "collapsed": false
   },
   "outputs": [
    {
     "name": "stdout",
     "output_type": "stream",
     "text": [
      "10840\n"
     ]
    }
   ],
   "source": [
    "del android[10472]\n",
    "print(len(android))"
   ]
  },
  {
   "cell_type": "markdown",
   "metadata": {},
   "source": [
    "The Google Play data set has duplicate app entries as shown below. "
   ]
  },
  {
   "cell_type": "code",
   "execution_count": 8,
   "metadata": {
    "collapsed": false
   },
   "outputs": [
    {
     "name": "stdout",
     "output_type": "stream",
     "text": [
      "Number of duplicate apps 1181\n",
      "\n",
      "\n",
      "Examples of duplicate apps: ['Quick PDF Scanner + OCR FREE', 'Box', 'Google My Business', 'ZOOM Cloud Meetings', 'join.me - Simple Meetings', 'Box', 'Zenefits', 'Google Ads', 'Google My Business', 'Slack', 'FreshBooks Classic', 'Insightly CRM', 'QuickBooks Accounting: Invoicing & Expenses', 'HipChat - Chat Built for Teams', 'Xero Accounting Software']\n"
     ]
    }
   ],
   "source": [
    "duplicate_apps = []\n",
    "unique_apps = []\n",
    "\n",
    "for app in android:\n",
    "    name = app[0]\n",
    "    if name in unique_apps:\n",
    "        duplicate_apps.append(name)\n",
    "    else:\n",
    "        unique_apps.append(name)\n",
    "\n",
    "\n",
    "print('Number of duplicate apps', len(duplicate_apps))\n",
    "print('\\n')\n",
    "print('Examples of duplicate apps:', duplicate_apps[:15])"
   ]
  },
  {
   "cell_type": "markdown",
   "metadata": {},
   "source": [
    "Before deleting any duplicate app entries, we must first take a look at why there are duplicates."
   ]
  },
  {
   "cell_type": "code",
   "execution_count": 9,
   "metadata": {
    "collapsed": false
   },
   "outputs": [
    {
     "name": "stdout",
     "output_type": "stream",
     "text": [
      "['Instagram', 'SOCIAL', '4.5', '66577313', 'Varies with device', '1,000,000,000+', 'Free', '0', 'Teen', 'Social', 'July 31, 2018', 'Varies with device', 'Varies with device']\n",
      "['Instagram', 'SOCIAL', '4.5', '66577446', 'Varies with device', '1,000,000,000+', 'Free', '0', 'Teen', 'Social', 'July 31, 2018', 'Varies with device', 'Varies with device']\n",
      "['Instagram', 'SOCIAL', '4.5', '66577313', 'Varies with device', '1,000,000,000+', 'Free', '0', 'Teen', 'Social', 'July 31, 2018', 'Varies with device', 'Varies with device']\n",
      "['Instagram', 'SOCIAL', '4.5', '66509917', 'Varies with device', '1,000,000,000+', 'Free', '0', 'Teen', 'Social', 'July 31, 2018', 'Varies with device', 'Varies with device']\n"
     ]
    }
   ],
   "source": [
    "for app in android:\n",
    "    name = app[0]\n",
    "    if name == 'Instagram':\n",
    "        print(app)"
   ]
  },
  {
   "cell_type": "markdown",
   "metadata": {},
   "source": [
    "As shown with the Instagram app, the duplicates are due to different numbers of total reviews. The rows with the most reviews will be the most curent row for the app in this dataset. The row with the most reviews will be preserved while the other duplicate rows will be discarded."
   ]
  },
  {
   "cell_type": "code",
   "execution_count": 10,
   "metadata": {
    "collapsed": false
   },
   "outputs": [],
   "source": [
    "reviews_max = {}\n",
    "\n",
    "for app in android:\n",
    "    name = app[0]\n",
    "    n_reviews = float(app[3])\n",
    "    \n",
    "    if name in reviews_max and reviews_max[name] <  n_reviews:\n",
    "        reviews_max[name] = n_reviews\n",
    "    else:\n",
    "        reviews_max[name] = n_reviews"
   ]
  },
  {
   "cell_type": "code",
   "execution_count": 11,
   "metadata": {
    "collapsed": false
   },
   "outputs": [
    {
     "name": "stdout",
     "output_type": "stream",
     "text": [
      "Original number of rows:  10840\n",
      "\n",
      "\n",
      "Expected number of rows. Original number of rows minus total duplicates:  9659\n",
      "\n",
      "\n",
      "Number of rows after we delete duplicates:  9659\n"
     ]
    }
   ],
   "source": [
    "print('Original number of rows: ', len(android))\n",
    "print('\\n')\n",
    "print('Expected number of rows. Original number of rows minus total duplicates: ',len(android)-1181)\n",
    "print('\\n')\n",
    "print('Number of rows after we delete duplicates: ', len(reviews_max))"
   ]
  },
  {
   "cell_type": "code",
   "execution_count": 12,
   "metadata": {
    "collapsed": false
   },
   "outputs": [],
   "source": [
    "android_clean = []\n",
    "already_added = []\n",
    "\n",
    "for app in android:\n",
    "    name = app[0]\n",
    "    n_reviews = float(app[3])\n",
    "    \n",
    "    if (reviews_max[name] == n_reviews) and (name not in already_added):\n",
    "        android_clean.append(app)\n",
    "        already_added.append(name)"
   ]
  },
  {
   "cell_type": "markdown",
   "metadata": {},
   "source": [
    "What I've done in the previous cell was clean the original Google Play Store dataset by removing duplicate rows. We iterated through the original dataset and added unique instances of each app to a list called 'android_clean.'\n",
    "\n",
    "The below cell shows shows the first three rows of the cleaned data set to show that we have preserved the original dataset format as well as the remaining rows of data."
   ]
  },
  {
   "cell_type": "code",
   "execution_count": 13,
   "metadata": {
    "collapsed": false
   },
   "outputs": [
    {
     "name": "stdout",
     "output_type": "stream",
     "text": [
      "['Photo Editor & Candy Camera & Grid & ScrapBook', 'ART_AND_DESIGN', '4.1', '159', '19M', '10,000+', 'Free', '0', 'Everyone', 'Art & Design', 'January 7, 2018', '1.0.0', '4.0.3 and up']\n",
      "\n",
      "\n",
      "['U Launcher Lite – FREE Live Cool Themes, Hide Apps', 'ART_AND_DESIGN', '4.7', '87510', '8.7M', '5,000,000+', 'Free', '0', 'Everyone', 'Art & Design', 'August 1, 2018', '1.2.4', '4.0.3 and up']\n",
      "\n",
      "\n",
      "['Sketch - Draw & Paint', 'ART_AND_DESIGN', '4.5', '215644', '25M', '50,000,000+', 'Free', '0', 'Teen', 'Art & Design', 'June 8, 2018', 'Varies with device', '4.2 and up']\n",
      "\n",
      "\n",
      "Number of rows: 9659\n",
      "Number of columns: 13\n"
     ]
    }
   ],
   "source": [
    "explore_data(android_clean, 0, 3, True)"
   ]
  },
  {
   "cell_type": "markdown",
   "metadata": {},
   "source": [
    "The next step in the data cleaning process will involve removing non-English named apps. The following function will check for letters in a given word for non-English characters."
   ]
  },
  {
   "cell_type": "code",
   "execution_count": 14,
   "metadata": {
    "collapsed": false
   },
   "outputs": [],
   "source": [
    "def EnglishCheck(word):\n",
    "    nonEnglish = 0\n",
    "    for letter in word:\n",
    "        if ord(letter) > 127:\n",
    "            nonEnglish += 1\n",
    "    if nonEnglish > 3:\n",
    "        return False\n",
    "    else:\n",
    "        return True"
   ]
  },
  {
   "cell_type": "markdown",
   "metadata": {},
   "source": [
    "The following cell is a test for our EnglishCheck function which checks to see if an app name has more than three non-English characters."
   ]
  },
  {
   "cell_type": "code",
   "execution_count": 15,
   "metadata": {
    "collapsed": false
   },
   "outputs": [
    {
     "data": {
      "text/plain": [
       "False"
      ]
     },
     "execution_count": 15,
     "metadata": {},
     "output_type": "execute_result"
    }
   ],
   "source": [
    "EnglishCheck('Instachat 😜'), EnglishCheck('Docs To Go™ Free Office Suite'),\n",
    "EnglishCheck('爱奇艺PPS -《欢乐颂2》电视剧热播')"
   ]
  },
  {
   "cell_type": "markdown",
   "metadata": {},
   "source": [
    "In the next cell, we're going to figure out how many English apps we have for both the Google Play Store and iOS app markets"
   ]
  },
  {
   "cell_type": "code",
   "execution_count": 16,
   "metadata": {
    "collapsed": false
   },
   "outputs": [],
   "source": [
    "iOS_English = []\n",
    "\n",
    "android_English = []\n",
    "\n",
    "\n",
    "for app in android_clean:\n",
    "    if EnglishCheck(app[0]):\n",
    "        android_English.append(app)\n",
    "\n",
    "for app in ios:\n",
    "    if EnglishCheck(app[1]):\n",
    "        iOS_English.append(app)\n"
   ]
  },
  {
   "cell_type": "code",
   "execution_count": 17,
   "metadata": {
    "collapsed": false
   },
   "outputs": [
    {
     "name": "stdout",
     "output_type": "stream",
     "text": [
      "['284882215', 'Facebook', '389879808', 'USD', '0.0', '2974676', '212', '3.5', '3.5', '95.0', '4+', 'Social Networking', '37', '1', '29', '1']\n",
      "\n",
      "\n",
      "['389801252', 'Instagram', '113954816', 'USD', '0.0', '2161558', '1289', '4.5', '4.0', '10.23', '12+', 'Photo & Video', '37', '0', '29', '1']\n",
      "\n",
      "\n",
      "['529479190', 'Clash of Clans', '116476928', 'USD', '0.0', '2130805', '579', '4.5', '4.5', '9.24.12', '9+', 'Games', '38', '5', '18', '1']\n",
      "\n",
      "\n",
      "Number of rows: 6183\n",
      "Number of columns: 16\n",
      "\n",
      "\n",
      "['Photo Editor & Candy Camera & Grid & ScrapBook', 'ART_AND_DESIGN', '4.1', '159', '19M', '10,000+', 'Free', '0', 'Everyone', 'Art & Design', 'January 7, 2018', '1.0.0', '4.0.3 and up']\n",
      "\n",
      "\n",
      "['U Launcher Lite – FREE Live Cool Themes, Hide Apps', 'ART_AND_DESIGN', '4.7', '87510', '8.7M', '5,000,000+', 'Free', '0', 'Everyone', 'Art & Design', 'August 1, 2018', '1.2.4', '4.0.3 and up']\n",
      "\n",
      "\n",
      "['Sketch - Draw & Paint', 'ART_AND_DESIGN', '4.5', '215644', '25M', '50,000,000+', 'Free', '0', 'Teen', 'Art & Design', 'June 8, 2018', 'Varies with device', '4.2 and up']\n",
      "\n",
      "\n",
      "Number of rows: 9614\n",
      "Number of columns: 13\n"
     ]
    }
   ],
   "source": [
    "explore_data(iOS_English, 0, 3, True)\n",
    "print('\\n')\n",
    "explore_data(android_English, 0, 3, True)"
   ]
  },
  {
   "cell_type": "markdown",
   "metadata": {},
   "source": [
    "After ridding both datasets of non-English apps, we can see that we have 6183 iOS apps and 9614 Google Playstore apps. "
   ]
  },
  {
   "cell_type": "markdown",
   "metadata": {},
   "source": [
    "The firm we're pretending to be employ us only publishes free apps. So, we have to further clean the remaining dataset to include only free apps. The Google Play Store has a column that organizes apps by whether they are free or not. The Apple App Store dataset features a price column by which we can gather apps that have a price of zero."
   ]
  },
  {
   "cell_type": "code",
   "execution_count": 18,
   "metadata": {
    "collapsed": false
   },
   "outputs": [
    {
     "name": "stdout",
     "output_type": "stream",
     "text": [
      "We have 8863 free Google Play Store apps.\n",
      "We have 3222 free Apple App Store apps.\n"
     ]
    }
   ],
   "source": [
    "android_Free = []\n",
    "iOS_Free = []\n",
    "\n",
    "\n",
    "for app in android_English:\n",
    "    hasPrice = app[6]\n",
    "    if hasPrice == \"Free\":\n",
    "        android_Free.append(app)\n",
    "\n",
    "for app in iOS_English:\n",
    "    hasPrice = float(app[4])\n",
    "    if hasPrice == 0:\n",
    "        iOS_Free.append(app)\n",
    "\n",
    "print(\"We have \" + str(len(android_Free)) + \" free Google Play Store apps.\")\n",
    "print(\"We have \" + str(len(iOS_Free)) + \" free Apple App Store apps.\")"
   ]
  },
  {
   "cell_type": "markdown",
   "metadata": {
    "collapsed": true
   },
   "source": [
    "# Validation Strategy\n",
    "\n",
    "- Build a minimal Android version of an app and then add it to Google Play.\n",
    "- If the app receives good feedback then the app will be further developed.\n",
    "- If the app is profitable after six months, an IOS version of the app will be made and added to the App Store.\n",
    "\n",
    "Before we implement this validation strategy we'll first seek out the most common app genres for each market. In order to do this we'll create frequency tables for the genres for each market."
   ]
  },
  {
   "cell_type": "code",
   "execution_count": 19,
   "metadata": {
    "collapsed": true
   },
   "outputs": [],
   "source": [
    "def freq_table(dataset, index):\n",
    "    table = {}\n",
    "    total = 0\n",
    "    \n",
    "    for row in dataset:\n",
    "        total += 1\n",
    "        value = row[index]\n",
    "        if value in table:\n",
    "            table[value] += 1\n",
    "        else:\n",
    "            table[value] = 1\n",
    "    \n",
    "    table_percentages = {}\n",
    "    for key in table:\n",
    "        percentage = (table[key] / total) * 100\n",
    "        table_percentages[key] = percentage \n",
    "    \n",
    "    return table_percentages\n",
    "\n",
    "\n",
    "### This function displays tables in descending order. ###\n",
    "\n",
    "def display_table(dataset, index):\n",
    "    table = freq_table(dataset, index)\n",
    "    table_display = []\n",
    "    for key in table:\n",
    "        key_val_as_tuple = (table[key], key)\n",
    "        table_display.append(key_val_as_tuple)\n",
    "\n",
    "    table_sorted = sorted(table_display, reverse = True)\n",
    "    for entry in table_sorted:\n",
    "        print(entry[1], ':', entry[0])        "
   ]
  },
  {
   "cell_type": "code",
   "execution_count": 20,
   "metadata": {
    "collapsed": false
   },
   "outputs": [
    {
     "name": "stdout",
     "output_type": "stream",
     "text": [
      "Games : 58.16263190564867\n",
      "Entertainment : 7.883302296710118\n",
      "Photo & Video : 4.9658597144630665\n",
      "Education : 3.662321539416512\n",
      "Social Networking : 3.2898820608317814\n",
      "Shopping : 2.60707635009311\n",
      "Utilities : 2.5139664804469275\n",
      "Sports : 2.1415270018621975\n",
      "Music : 2.0484171322160147\n",
      "Health & Fitness : 2.0173805090006205\n",
      "Productivity : 1.7380509000620732\n",
      "Lifestyle : 1.5828677839851024\n",
      "News : 1.3345747982619491\n",
      "Travel : 1.2414649286157666\n",
      "Finance : 1.1173184357541899\n",
      "Weather : 0.8690254500310366\n",
      "Food & Drink : 0.8069522036002483\n",
      "Reference : 0.5586592178770949\n",
      "Business : 0.5276225946617008\n",
      "Book : 0.4345127250155183\n",
      "Navigation : 0.186219739292365\n",
      "Medical : 0.186219739292365\n",
      "Catalogs : 0.12414649286157665\n"
     ]
    }
   ],
   "source": [
    "display_table(iOS_Free, 11)"
   ]
  },
  {
   "cell_type": "markdown",
   "metadata": {},
   "source": [
    "It looks like the most common apps are games, entertainment, media editing, and education. It looks like there are more entertainment apps available than utility apps. Looking at the Google Play store would give us greater insight on profitable app profiles. As a side note, this analysis would be greatly aided by looking at the most downloaded apps rather than only looking at what app profiles are published the most often.\n",
    "\n",
    "Below are frequency tables for the Google Play store's Category and Genres columns. Category and Genres are both being analyzed as apps sometimes fit multiple genres "
   ]
  },
  {
   "cell_type": "code",
   "execution_count": 21,
   "metadata": {
    "collapsed": false
   },
   "outputs": [
    {
     "name": "stdout",
     "output_type": "stream",
     "text": [
      "FAMILY : 19.21471285117906\n",
      "GAME : 9.511452104253639\n",
      "TOOLS : 8.462146000225657\n",
      "BUSINESS : 4.580841701455489\n",
      "LIFESTYLE : 3.9038700214374367\n",
      "PRODUCTIVITY : 3.8925871601038025\n",
      "FINANCE : 3.7007785174320205\n",
      "MEDICAL : 3.542818458761142\n",
      "SPORTS : 3.4187069840911652\n",
      "PERSONALIZATION : 3.317161232088458\n",
      "COMMUNICATION : 3.2494640640866526\n",
      "HEALTH_AND_FITNESS : 3.068938282748505\n",
      "PHOTOGRAPHY : 2.944826808078529\n",
      "NEWS_AND_MAGAZINES : 2.798149610741284\n",
      "SOCIAL : 2.6627552747376737\n",
      "TRAVEL_AND_LOCAL : 2.335552296062281\n",
      "SHOPPING : 2.245289405393208\n",
      "BOOKS_AND_REFERENCE : 2.1437436533904997\n",
      "DATING : 1.8616721200496444\n",
      "VIDEO_PLAYERS : 1.7826920907142052\n",
      "MAPS_AND_NAVIGATION : 1.399074805370642\n",
      "FOOD_AND_DRINK : 1.241114746699763\n",
      "EDUCATION : 1.128286133363421\n",
      "LIBRARIES_AND_DEMO : 0.9364774906916393\n",
      "AUTO_AND_VEHICLES : 0.9251946293580051\n",
      "ENTERTAINMENT : 0.8800631840234684\n",
      "HOUSE_AND_HOME : 0.8236488773552973\n",
      "WEATHER : 0.8010831546880289\n",
      "EVENTS : 0.7108202640189552\n",
      "PARENTING : 0.6544059573507841\n",
      "ART_AND_DESIGN : 0.6431230960171499\n",
      "COMICS : 0.6205573733498815\n",
      "BEAUTY : 0.5979916506826132\n"
     ]
    }
   ],
   "source": [
    "#Category column\n",
    "display_table(android_Free, 1)"
   ]
  },
  {
   "cell_type": "markdown",
   "metadata": {},
   "source": [
    "The frequency table for the category column above shows that family, game, and tools are the top three most popular categories of apps. Game apps are the second most popular with tools being a close third place runner-up. This suggests that a good portion of the app market isn't all about entertainment apps but apps that offer a practical use as well."
   ]
  },
  {
   "cell_type": "code",
   "execution_count": 22,
   "metadata": {
    "collapsed": false
   },
   "outputs": [
    {
     "name": "stdout",
     "output_type": "stream",
     "text": [
      "Tools : 8.450863138892023\n",
      "Entertainment : 6.070179397495204\n",
      "Education : 5.348076272142616\n",
      "Business : 4.580841701455489\n",
      "Productivity : 3.8925871601038025\n",
      "Lifestyle : 3.8925871601038025\n",
      "Finance : 3.7007785174320205\n",
      "Medical : 3.542818458761142\n",
      "Sports : 3.463838429425702\n",
      "Personalization : 3.317161232088458\n",
      "Communication : 3.2494640640866526\n",
      "Action : 3.102786866749408\n",
      "Health & Fitness : 3.068938282748505\n",
      "Photography : 2.944826808078529\n",
      "News & Magazines : 2.798149610741284\n",
      "Social : 2.6627552747376737\n",
      "Travel & Local : 2.324269434728647\n",
      "Shopping : 2.245289405393208\n",
      "Books & Reference : 2.1437436533904997\n",
      "Simulation : 2.042197901387792\n",
      "Dating : 1.8616721200496444\n",
      "Arcade : 1.8616721200496444\n",
      "Video Players & Editors : 1.7826920907142052\n",
      "Casual : 1.7488435067133026\n",
      "Maps & Navigation : 1.399074805370642\n",
      "Food & Drink : 1.241114746699763\n",
      "Puzzle : 1.128286133363421\n",
      "Racing : 0.9928917973598104\n",
      "Role Playing : 0.9364774906916393\n",
      "Libraries & Demo : 0.9364774906916393\n",
      "Auto & Vehicles : 0.9251946293580051\n",
      "Strategy : 0.9026289066907368\n",
      "House & Home : 0.8236488773552973\n",
      "Weather : 0.8010831546880289\n",
      "Events : 0.7108202640189552\n",
      "Adventure : 0.6769716800180525\n",
      "Comics : 0.6092745120162473\n",
      "Beauty : 0.5979916506826132\n",
      "Art & Design : 0.5979916506826132\n",
      "Parenting : 0.4964458986799052\n",
      "Card : 0.4400315920117342\n",
      "Casino : 0.42874873067809993\n",
      "Trivia : 0.4174658693444658\n",
      "Educational;Education : 0.3949001466771973\n",
      "Board : 0.38361728534356315\n",
      "Educational : 0.37233442400992894\n",
      "Education;Education : 0.33848584000902626\n",
      "Word : 0.25950581067358686\n",
      "Casual;Pretend Play : 0.2369400880063184\n",
      "Music : 0.20309150400541578\n",
      "Racing;Action & Adventure : 0.16924292000451313\n",
      "Puzzle;Brain Games : 0.16924292000451313\n",
      "Entertainment;Music & Video : 0.16924292000451313\n",
      "Casual;Brain Games : 0.1353943360036105\n",
      "Casual;Action & Adventure : 0.1353943360036105\n",
      "Arcade;Action & Adventure : 0.1241114746699763\n",
      "Action;Action & Adventure : 0.10154575200270789\n",
      "Educational;Pretend Play : 0.09026289066907367\n",
      "Simulation;Action & Adventure : 0.07898002933543948\n",
      "Parenting;Education : 0.07898002933543948\n",
      "Entertainment;Brain Games : 0.07898002933543948\n",
      "Board;Brain Games : 0.07898002933543948\n",
      "Parenting;Music & Video : 0.06769716800180525\n",
      "Educational;Brain Games : 0.06769716800180525\n",
      "Casual;Creativity : 0.06769716800180525\n",
      "Art & Design;Creativity : 0.06769716800180525\n",
      "Education;Pretend Play : 0.05641430666817105\n",
      "Role Playing;Pretend Play : 0.045131445334536835\n",
      "Education;Creativity : 0.045131445334536835\n",
      "Role Playing;Action & Adventure : 0.033848584000902626\n",
      "Puzzle;Action & Adventure : 0.033848584000902626\n",
      "Entertainment;Creativity : 0.033848584000902626\n",
      "Entertainment;Action & Adventure : 0.033848584000902626\n",
      "Educational;Creativity : 0.033848584000902626\n",
      "Educational;Action & Adventure : 0.033848584000902626\n",
      "Education;Music & Video : 0.033848584000902626\n",
      "Education;Brain Games : 0.033848584000902626\n",
      "Education;Action & Adventure : 0.033848584000902626\n",
      "Adventure;Action & Adventure : 0.033848584000902626\n",
      "Video Players & Editors;Music & Video : 0.022565722667268417\n",
      "Sports;Action & Adventure : 0.022565722667268417\n",
      "Simulation;Pretend Play : 0.022565722667268417\n",
      "Puzzle;Creativity : 0.022565722667268417\n",
      "Music;Music & Video : 0.022565722667268417\n",
      "Entertainment;Pretend Play : 0.022565722667268417\n",
      "Casual;Education : 0.022565722667268417\n",
      "Board;Action & Adventure : 0.022565722667268417\n",
      "Trivia;Education : 0.011282861333634209\n",
      "Travel & Local;Action & Adventure : 0.011282861333634209\n",
      "Tools;Education : 0.011282861333634209\n",
      "Strategy;Education : 0.011282861333634209\n",
      "Strategy;Creativity : 0.011282861333634209\n",
      "Strategy;Action & Adventure : 0.011282861333634209\n",
      "Simulation;Education : 0.011282861333634209\n",
      "Role Playing;Brain Games : 0.011282861333634209\n",
      "Racing;Pretend Play : 0.011282861333634209\n",
      "Puzzle;Education : 0.011282861333634209\n",
      "Parenting;Brain Games : 0.011282861333634209\n",
      "Music & Audio;Music & Video : 0.011282861333634209\n",
      "Lifestyle;Pretend Play : 0.011282861333634209\n",
      "Lifestyle;Education : 0.011282861333634209\n",
      "Health & Fitness;Education : 0.011282861333634209\n",
      "Health & Fitness;Action & Adventure : 0.011282861333634209\n",
      "Entertainment;Education : 0.011282861333634209\n",
      "Communication;Creativity : 0.011282861333634209\n",
      "Comics;Creativity : 0.011282861333634209\n",
      "Casual;Music & Video : 0.011282861333634209\n",
      "Card;Brain Games : 0.011282861333634209\n",
      "Card;Action & Adventure : 0.011282861333634209\n",
      "Books & Reference;Education : 0.011282861333634209\n",
      "Art & Design;Pretend Play : 0.011282861333634209\n",
      "Art & Design;Action & Adventure : 0.011282861333634209\n",
      "Arcade;Pretend Play : 0.011282861333634209\n",
      "Adventure;Education : 0.011282861333634209\n"
     ]
    }
   ],
   "source": [
    "#Genre column\n",
    "\n",
    "display_table(android_Free, 9)"
   ]
  },
  {
   "cell_type": "markdown",
   "metadata": {},
   "source": [
    "The display table above showcases the most popular app genres. It falls in line with what we've seen in previous tables: tools and entertainment apps top the charts for most common kind of apps. \n",
    "\n",
    "A profitable app profile would be an entertainment application or one that serves a utilitarian purpose for smartphone owners. While the iOS App Store doesn't specifically list utility apps as a genre, it does showcase media editing applications as a popular kind of utility app. \n",
    "\n",
    "Further research on what kinds of games and what kinds of utility apps are preferred by users would be helpful."
   ]
  },
  {
   "cell_type": "markdown",
   "metadata": {},
   "source": [
    "## Most Popular Apps by Genre on the App Store"
   ]
  },
  {
   "cell_type": "code",
   "execution_count": 36,
   "metadata": {
    "collapsed": false
   },
   "outputs": [
    {
     "name": "stdout",
     "output_type": "stream",
     "text": [
      "\n",
      "\n",
      "Total number of ratings: 1177591.0\n",
      "Number of apps specific to the Productivity genre: 56\n",
      "Genre: Productivity | Average number of ratings: 21028.410714285714\n",
      "\n",
      "\n",
      "\n",
      "\n",
      "Total number of ratings: 3783551.0\n",
      "Number of apps specific to the Music genre: 66\n",
      "Genre: Music | Average number of ratings: 57326.530303030304\n",
      "\n",
      "\n",
      "\n",
      "\n",
      "Total number of ratings: 1348958.0\n",
      "Number of apps specific to the Reference genre: 18\n",
      "Genre: Reference | Average number of ratings: 74942.11111111111\n",
      "\n",
      "\n",
      "\n",
      "\n",
      "Total number of ratings: 1463837.0\n",
      "Number of apps specific to the Weather genre: 28\n",
      "Genre: Weather | Average number of ratings: 52279.892857142855\n",
      "\n",
      "\n",
      "\n",
      "\n",
      "Total number of ratings: 516542.0\n",
      "Number of apps specific to the Navigation genre: 6\n",
      "Genre: Navigation | Average number of ratings: 86090.33333333333\n",
      "\n",
      "\n",
      "\n",
      "\n",
      "Total number of ratings: 3563577.0\n",
      "Number of apps specific to the Entertainment genre: 254\n",
      "Genre: Entertainment | Average number of ratings: 14029.830708661417\n",
      "\n",
      "\n",
      "\n",
      "\n",
      "Total number of ratings: 866682.0\n",
      "Number of apps specific to the Food & Drink genre: 26\n",
      "Genre: Food & Drink | Average number of ratings: 33333.92307692308\n",
      "\n",
      "\n",
      "\n",
      "\n",
      "Total number of ratings: 1132846.0\n",
      "Number of apps specific to the Finance genre: 36\n",
      "Genre: Finance | Average number of ratings: 31467.944444444445\n",
      "\n",
      "\n",
      "\n",
      "\n",
      "Total number of ratings: 826470.0\n",
      "Number of apps specific to the Education genre: 118\n",
      "Genre: Education | Average number of ratings: 7003.983050847458\n",
      "\n",
      "\n",
      "\n",
      "\n",
      "Total number of ratings: 840774.0\n",
      "Number of apps specific to the Lifestyle genre: 51\n",
      "Genre: Lifestyle | Average number of ratings: 16485.764705882353\n",
      "\n",
      "\n",
      "\n",
      "\n",
      "Total number of ratings: 2261254.0\n",
      "Number of apps specific to the Shopping genre: 84\n",
      "Genre: Shopping | Average number of ratings: 26919.690476190477\n",
      "\n",
      "\n",
      "\n",
      "\n",
      "Total number of ratings: 127349.0\n",
      "Number of apps specific to the Business genre: 17\n",
      "Genre: Business | Average number of ratings: 7491.117647058823\n",
      "\n",
      "\n",
      "\n",
      "\n",
      "Total number of ratings: 913665.0\n",
      "Number of apps specific to the News genre: 43\n",
      "Genre: News | Average number of ratings: 21248.023255813954\n",
      "\n",
      "\n",
      "\n",
      "\n",
      "Total number of ratings: 42705967.0\n",
      "Number of apps specific to the Games genre: 1874\n",
      "Genre: Games | Average number of ratings: 22788.6696905016\n",
      "\n",
      "\n",
      "\n",
      "\n",
      "Total number of ratings: 1514371.0\n",
      "Number of apps specific to the Health & Fitness genre: 65\n",
      "Genre: Health & Fitness | Average number of ratings: 23298.015384615384\n",
      "\n",
      "\n",
      "\n",
      "\n",
      "Total number of ratings: 3672.0\n",
      "Number of apps specific to the Medical genre: 6\n",
      "Genre: Medical | Average number of ratings: 612.0\n",
      "\n",
      "\n",
      "\n",
      "\n",
      "Total number of ratings: 1587614.0\n",
      "Number of apps specific to the Sports genre: 69\n",
      "Genre: Sports | Average number of ratings: 23008.898550724636\n",
      "\n",
      "\n",
      "\n",
      "\n",
      "Total number of ratings: 1129752.0\n",
      "Number of apps specific to the Travel genre: 40\n",
      "Genre: Travel | Average number of ratings: 28243.8\n",
      "\n",
      "\n",
      "\n",
      "\n",
      "Total number of ratings: 7584125.0\n",
      "Number of apps specific to the Social Networking genre: 106\n",
      "Genre: Social Networking | Average number of ratings: 71548.34905660378\n",
      "\n",
      "\n",
      "\n",
      "\n",
      "Total number of ratings: 556619.0\n",
      "Number of apps specific to the Book genre: 14\n",
      "Genre: Book | Average number of ratings: 39758.5\n",
      "\n",
      "\n",
      "\n",
      "\n",
      "Total number of ratings: 1513441.0\n",
      "Number of apps specific to the Utilities genre: 81\n",
      "Genre: Utilities | Average number of ratings: 18684.456790123455\n",
      "\n",
      "\n",
      "\n",
      "\n",
      "Total number of ratings: 4550647.0\n",
      "Number of apps specific to the Photo & Video genre: 160\n",
      "Genre: Photo & Video | Average number of ratings: 28441.54375\n",
      "\n",
      "\n",
      "\n",
      "\n",
      "Total number of ratings: 16016.0\n",
      "Number of apps specific to the Catalogs genre: 4\n",
      "Genre: Catalogs | Average number of ratings: 4004.0\n",
      "\n",
      "\n"
     ]
    }
   ],
   "source": [
    "iOS_prime_genres = freq_table(iOS_Free, 11)\n",
    "\n",
    "iOS_prime_genres\n",
    "\n",
    "for genre in iOS_prime_genres:\n",
    "    total = 0\n",
    "    len_genre = 0\n",
    "    for app in iOS_Free:\n",
    "        genre_app = app[-5]\n",
    "        if genre_app == genre:\n",
    "            len_genre+=1\n",
    "            total += float(app[5])\n",
    "    \n",
    "    print('\\n')\n",
    "    print(\"Total number of ratings: \" + str(total))\n",
    "    print(\"Number of apps specific to the \" + genre + \" genre: \" + str(len_genre))\n",
    "    print(\"Genre: \" + genre + \" | Average number of ratings: \" + str(total/len_genre))\n",
    "    print('\\n')\n"
   ]
  },
  {
   "cell_type": "markdown",
   "metadata": {},
   "source": [
    "Navigation apps seem to have the highest average number of ratings yet the fewest apps. This suggests that the navigation app market has few competitors and plenty of consumers. The most popularly published apps that also have plenty of reviews is the gaming genre of apps. Perhaps an intersection of navigation and gaming could be exploited as the navigation section has few competitors while the market shows a high preference for entertainment and games.\n",
    "\n"
   ]
  },
  {
   "cell_type": "markdown",
   "metadata": {
    "collapsed": true
   },
   "source": [
    "## Most Popular Apps by Genre on Google Play"
   ]
  },
  {
   "cell_type": "code",
   "execution_count": 52,
   "metadata": {
    "collapsed": false
   },
   "outputs": [
    {
     "name": "stdout",
     "output_type": "stream",
     "text": [
      "\n",
      "\n",
      "Total number of ratings: 691902090.0\n",
      "Number of apps specific to the BUSINESS genre: 406\n",
      "Category: BUSINESS | Average number of ratings: 1704192.3399014778\n",
      "\n",
      "\n",
      "\n",
      "\n",
      "Total number of ratings: 53080061.0\n",
      "Number of apps specific to the AUTO_AND_VEHICLES genre: 82\n",
      "Category: AUTO_AND_VEHICLES | Average number of ratings: 647317.8170731707\n",
      "\n",
      "\n",
      "\n",
      "\n",
      "Total number of ratings: 713460000.0\n",
      "Number of apps specific to the ENTERTAINMENT genre: 78\n",
      "Category: ENTERTAINMENT | Average number of ratings: 9146923.076923076\n",
      "\n",
      "\n",
      "\n",
      "\n",
      "Total number of ratings: 8826995690.0\n",
      "Number of apps specific to the FAMILY genre: 1703\n",
      "Category: FAMILY | Average number of ratings: 5183203.576042279\n",
      "\n",
      "\n",
      "\n",
      "\n",
      "Total number of ratings: 4656268815.0\n",
      "Number of apps specific to the PHOTOGRAPHY genre: 261\n",
      "Category: PHOTOGRAPHY | Average number of ratings: 17840110.40229885\n",
      "\n",
      "\n",
      "\n",
      "\n",
      "Total number of ratings: 113221100.0\n",
      "Number of apps specific to the ART_AND_DESIGN genre: 57\n",
      "Category: ART_AND_DESIGN | Average number of ratings: 1986335.0877192982\n",
      "\n",
      "\n",
      "\n",
      "\n",
      "Total number of ratings: 5786629314.0\n",
      "Number of apps specific to the PRODUCTIVITY genre: 345\n",
      "Category: PRODUCTIVITY | Average number of ratings: 16772838.591304347\n",
      "\n",
      "\n",
      "\n",
      "\n",
      "Total number of ratings: 38642344.0\n",
      "Number of apps specific to the MEDICAL genre: 314\n",
      "Category: MEDICAL | Average number of ratings: 123064.7898089172\n",
      "\n",
      "\n",
      "\n",
      "\n",
      "Total number of ratings: 211738751.0\n",
      "Number of apps specific to the FOOD_AND_DRINK genre: 110\n",
      "Category: FOOD_AND_DRINK | Average number of ratings: 1924897.7363636363\n",
      "\n",
      "\n",
      "\n",
      "\n",
      "Total number of ratings: 10886869450.0\n",
      "Number of apps specific to the GAME genre: 843\n",
      "Category: GAME | Average number of ratings: 12914435.883748516\n",
      "\n",
      "\n",
      "\n",
      "\n",
      "Total number of ratings: 27197050.0\n",
      "Number of apps specific to the BEAUTY genre: 53\n",
      "Category: BEAUTY | Average number of ratings: 513151.88679245283\n",
      "\n",
      "\n",
      "\n",
      "\n",
      "Total number of ratings: 176850000.0\n",
      "Number of apps specific to the EDUCATION genre: 100\n",
      "Category: EDUCATION | Average number of ratings: 1768500.0\n",
      "\n",
      "\n",
      "\n",
      "\n",
      "Total number of ratings: 15973160.0\n",
      "Number of apps specific to the EVENTS genre: 63\n",
      "Category: EVENTS | Average number of ratings: 253542.22222222222\n",
      "\n",
      "\n",
      "\n",
      "\n",
      "Total number of ratings: 1133548402.0\n",
      "Number of apps specific to the HEALTH_AND_FITNESS genre: 272\n",
      "Category: HEALTH_AND_FITNESS | Average number of ratings: 4167457.3602941176\n",
      "\n",
      "\n",
      "\n",
      "\n",
      "Total number of ratings: 503060780.0\n",
      "Number of apps specific to the MAPS_AND_NAVIGATION genre: 124\n",
      "Category: MAPS_AND_NAVIGATION | Average number of ratings: 4056941.7741935486\n",
      "\n",
      "\n",
      "\n",
      "\n",
      "Total number of ratings: 97202461.0\n",
      "Number of apps specific to the HOUSE_AND_HOME genre: 73\n",
      "Category: HOUSE_AND_HOME | Average number of ratings: 1331540.5616438356\n",
      "\n",
      "\n",
      "\n",
      "\n",
      "Total number of ratings: 455163132.0\n",
      "Number of apps specific to the FINANCE genre: 328\n",
      "Category: FINANCE | Average number of ratings: 1387692.475609756\n",
      "\n",
      "\n",
      "\n",
      "\n",
      "Total number of ratings: 44971150.0\n",
      "Number of apps specific to the COMICS genre: 55\n",
      "Category: COMICS | Average number of ratings: 817657.2727272727\n",
      "\n",
      "\n",
      "\n",
      "\n",
      "Total number of ratings: 1295230683.0\n",
      "Number of apps specific to the SPORTS genre: 303\n",
      "Category: SPORTS | Average number of ratings: 4274688.722772277\n",
      "\n",
      "\n",
      "\n",
      "\n",
      "Total number of ratings: 5487861902.0\n",
      "Number of apps specific to the SOCIAL genre: 236\n",
      "Category: SOCIAL | Average number of ratings: 23253652.127118643\n",
      "\n",
      "\n",
      "\n",
      "\n",
      "Total number of ratings: 11037906201.0\n",
      "Number of apps specific to the COMMUNICATION genre: 288\n",
      "Category: COMMUNICATION | Average number of ratings: 38326063.197916664\n",
      "\n",
      "\n",
      "\n",
      "\n",
      "Total number of ratings: 3916831720.0\n",
      "Number of apps specific to the VIDEO_PLAYERS genre: 158\n",
      "Category: VIDEO_PLAYERS | Average number of ratings: 24790074.17721519\n",
      "\n",
      "\n",
      "\n",
      "\n",
      "Total number of ratings: 2894704086.0\n",
      "Number of apps specific to the TRAVEL_AND_LOCAL genre: 207\n",
      "Category: TRAVEL_AND_LOCAL | Average number of ratings: 13984077.710144928\n",
      "\n",
      "\n",
      "\n",
      "\n",
      "Total number of ratings: 360288520.0\n",
      "Number of apps specific to the WEATHER genre: 71\n",
      "Category: WEATHER | Average number of ratings: 5074486.197183099\n",
      "\n",
      "\n",
      "\n",
      "\n",
      "Total number of ratings: 52995810.0\n",
      "Number of apps specific to the LIBRARIES_AND_DEMO genre: 83\n",
      "Category: LIBRARIES_AND_DEMO | Average number of ratings: 638503.734939759\n",
      "\n",
      "\n",
      "\n",
      "\n",
      "Total number of ratings: 2368196260.0\n",
      "Number of apps specific to the NEWS_AND_MAGAZINES genre: 248\n",
      "Category: NEWS_AND_MAGAZINES | Average number of ratings: 9549178.467741935\n",
      "\n",
      "\n",
      "\n",
      "\n",
      "Total number of ratings: 497484429.0\n",
      "Number of apps specific to the LIFESTYLE genre: 346\n",
      "Category: LIFESTYLE | Average number of ratings: 1437816.2687861272\n",
      "\n",
      "\n",
      "\n",
      "\n",
      "Total number of ratings: 1529235888.0\n",
      "Number of apps specific to the PERSONALIZATION genre: 294\n",
      "Category: PERSONALIZATION | Average number of ratings: 5201482.6122448975\n",
      "\n",
      "\n",
      "\n",
      "\n",
      "Total number of ratings: 140914757.0\n",
      "Number of apps specific to the DATING genre: 165\n",
      "Category: DATING | Average number of ratings: 854028.8303030303\n",
      "\n",
      "\n",
      "\n",
      "\n",
      "Total number of ratings: 1400338585.0\n",
      "Number of apps specific to the SHOPPING genre: 199\n",
      "Category: SHOPPING | Average number of ratings: 7036877.311557789\n",
      "\n",
      "\n",
      "\n",
      "\n",
      "Total number of ratings: 1665884260.0\n",
      "Number of apps specific to the BOOKS_AND_REFERENCE genre: 190\n",
      "Category: BOOKS_AND_REFERENCE | Average number of ratings: 8767811.894736841\n",
      "\n",
      "\n",
      "\n",
      "\n",
      "Total number of ratings: 8101043474.0\n",
      "Number of apps specific to the TOOLS genre: 750\n",
      "Category: TOOLS | Average number of ratings: 10801391.298666667\n",
      "\n",
      "\n",
      "\n",
      "\n",
      "Total number of ratings: 31471010.0\n",
      "Number of apps specific to the PARENTING genre: 58\n",
      "Category: PARENTING | Average number of ratings: 542603.6206896552\n",
      "\n",
      "\n"
     ]
    }
   ],
   "source": [
    "android_categories = freq_table(android_Free, 1)\n",
    "\n",
    "android_categories\n",
    "\n",
    "for category in android_categories:\n",
    "    total = 0\n",
    "    len_category = 0\n",
    "    for app in android_Free:\n",
    "        category_app = app[1]\n",
    "        if category_app == category:\n",
    "            installs = app[5]\n",
    "            installs = installs.replace(',', '')\n",
    "            installs = installs.replace('+','')\n",
    "            total += float(installs)\n",
    "            len_category+=1\n",
    "\n",
    "    \n",
    "    print('\\n')\n",
    "    print(\"Total number of ratings: \" + str(total))\n",
    "    print(\"Number of apps specific to the \" + category + \" genre: \" + str(len_category))\n",
    "    print(\"Category: \" + category + \" | Average number of ratings: \" + str(total/len_category))\n",
    "    print('\\n')\n"
   ]
  },
  {
   "cell_type": "markdown",
   "metadata": {},
   "source": [
    "A seemingly popular app category in the Google Play Store is communication. However, if we take a close look at the communication category we'd find that this is a skewed metric where very few apps dominate this category. Even so, the number of installs of these"
   ]
  }
 ],
 "metadata": {
  "kernelspec": {
   "display_name": "Python 3",
   "language": "python",
   "name": "python3"
  },
  "language_info": {
   "codemirror_mode": {
    "name": "ipython",
    "version": 3
   },
   "file_extension": ".py",
   "mimetype": "text/x-python",
   "name": "python",
   "nbconvert_exporter": "python",
   "pygments_lexer": "ipython3",
   "version": "3.4.3"
  }
 },
 "nbformat": 4,
 "nbformat_minor": 2
}
